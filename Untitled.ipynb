{
 "cells": [
  {
   "cell_type": "code",
   "execution_count": 1,
   "id": "89249a3a-3f22-4cac-b06b-7ab6d6e62224",
   "metadata": {},
   "outputs": [],
   "source": [
    "from src import util as util\n",
    "import numpy as np\n",
    "import pandas as pd\n",
    "import seaborn as sns\n",
    "import matplotlib.pyplot as plt\n",
    "import collections\n",
    "from pathlib import Path\n",
    "import csv"
   ]
  },
  {
   "cell_type": "code",
   "execution_count": 2,
   "id": "c53292d9-5a2a-4605-a116-c807d69b7b10",
   "metadata": {},
   "outputs": [],
   "source": [
    "def load_spam_dataset_csv(csv_path):\n",
    "\n",
    "    messages = []\n",
    "    labels = []\n",
    "\n",
    "    with open(csv_path, 'r', newline='', encoding='utf8') as csv_file:\n",
    "        reader = csv.reader(csv_file, delimiter=',')\n",
    "\n",
    "        for message, label in reader:\n",
    "            messages.append(message)\n",
    "            labels.append(1 if label == '1' else 0)\n",
    "\n",
    "    return messages, np.array(labels)"
   ]
  },
  {
   "cell_type": "code",
   "execution_count": 3,
   "id": "f060ae3c-0cff-45c1-aed8-2a96464cc0ba",
   "metadata": {},
   "outputs": [],
   "source": [
    "train_messages, train_labels = util.load_spam_dataset('data/train.tsv')\n",
    "test_messages, test_labels = util.load_spam_dataset('data/test.tsv')\n",
    "train2_messages, train2_labels = load_spam_dataset_csv('data/emails_new_train.csv')\n",
    "train3_messages, train3_labels = load_spam_dataset_csv('data/emails_new_train.csv')"
   ]
  },
  {
   "cell_type": "code",
   "execution_count": 30,
   "id": "5b4eec7d-e7e1-4c04-93a2-5c23e07dc21e",
   "metadata": {},
   "outputs": [],
   "source": [
    "from sklearn.utils import resample\n",
    "# Convert to numpy arrays for easier manipulation\n",
    "messages = np.array(train2_messages)\n",
    "labels = np.array(train2_labels)\n",
    "\n",
    "# Separate majority (ham) and minority (spam) classes\n",
    "ham_messages = messages[labels == 0]\n",
    "ham_labels = labels[labels == 0]\n",
    "spam_messages = messages[labels == 1]\n",
    "spam_labels = labels[labels == 1]\n",
    "\n",
    "# Undersample the majority class\n",
    "ham_messages_downsampled, ham_labels_downsampled = resample(\n",
    "    ham_messages,\n",
    "    ham_labels,\n",
    "    replace=False,                # sample without replacement\n",
    "    n_samples=len(spam_labels),    # match number of spam samples\n",
    "    random_state=42                # for reproducibility\n",
    ")\n",
    "\n",
    "# Combine the downsampled majority class with minority class\n",
    "balanced_messages = np.concatenate([ham_messages_downsampled, spam_messages])\n",
    "balanced_labels = np.concatenate([ham_labels_downsampled, spam_labels])\n",
    "\n",
    "# Shuffle the dataset to mix ham and spam examples\n",
    "shuffle_idx = np.random.permutation(len(balanced_labels))\n",
    "balanced_messages = balanced_messages[shuffle_idx]\n",
    "balanced_labels = balanced_labels[shuffle_idx]"
   ]
  },
  {
   "cell_type": "code",
   "execution_count": 32,
   "id": "72cacff5-7971-4446-8773-e77d9e5dd6e0",
   "metadata": {},
   "outputs": [
    {
     "name": "stdout",
     "output_type": "stream",
     "text": [
      "Ham (0) count: 2872\n",
      "Spam (1) count: 2872\n"
     ]
    }
   ],
   "source": [
    "import numpy as np\n",
    "\n",
    "# Assuming train_labels is your label array\n",
    "unique, counts = np.unique(balanced_labels, return_counts=True)\n",
    "count_dict = dict(zip(unique, counts))\n",
    "\n",
    "print(f\"Ham (0) count: {count_dict.get(0, 0)}\")\n",
    "print(f\"Spam (1) count: {count_dict.get(1, 0)}\")"
   ]
  },
  {
   "cell_type": "code",
   "execution_count": 33,
   "id": "2dc2f159-386f-4ded-bb64-46e3c15b623d",
   "metadata": {},
   "outputs": [],
   "source": [
    "from transformers import BertTokenizer, BertModel\n",
    "import torch\n",
    "import numpy as np\n",
    "from tqdm import tqdm\n",
    "\n",
    "# Initialize BERT\n",
    "tokenizer = BertTokenizer.from_pretrained('bert-base-uncased')\n",
    "model = BertModel.from_pretrained('bert-base-uncased')\n",
    "model.eval()  # Disable dropout for consistent embeddings\n",
    "\n",
    "def get_embeddings_Pooling(email_bodies, batch_size=32):\n",
    "    \"\"\"Equivalent to sentence-transformers' encode() but with mean pooling\"\"\"\n",
    "    embeddings = []\n",
    "    \n",
    "    for i in tqdm(range(0, len(email_bodies), batch_size), \n",
    "                 desc=\"Generating embeddings\"):\n",
    "        batch = email_bodies[i:i + batch_size]\n",
    "        \n",
    "        # Tokenize with BERT's conventions\n",
    "        inputs = tokenizer(\n",
    "            batch,\n",
    "            return_tensors=\"pt\",\n",
    "            padding=True,\n",
    "            truncation=True,\n",
    "            max_length=128,\n",
    "            add_special_tokens=True  # Adds [CLS] and [SEP]\n",
    "        )\n",
    "        \n",
    "        with torch.no_grad():\n",
    "            outputs = model(**inputs)\n",
    "        \n",
    "        # Mean pooling (exclude special tokens)\n",
    "        last_hidden = outputs.last_hidden_state\n",
    "        attention_mask = inputs['attention_mask']\n",
    "        \n",
    "        # Expand mask to match embedding dim\n",
    "        mask = attention_mask.unsqueeze(-1).expand(last_hidden.size()).float()\n",
    "        \n",
    "        # Sum embeddings (ignoring padding)\n",
    "        sum_embeddings = torch.sum(last_hidden * mask, dim=1)\n",
    "        \n",
    "        # Count non-padding tokens\n",
    "        sum_mask = torch.sum(mask, dim=1)\n",
    "        sum_mask = torch.clamp(sum_mask, min=1e-9)  # Avoid division by zero\n",
    "        \n",
    "        # Mean pooling\n",
    "        batch_embeddings = (sum_embeddings / sum_mask).numpy()\n",
    "        embeddings.extend(batch_embeddings)\n",
    "    \n",
    "    return np.array(embeddings)"
   ]
  },
  {
   "cell_type": "code",
   "execution_count": 34,
   "id": "7d08b250-ecc9-489f-b065-3e7a39709661",
   "metadata": {},
   "outputs": [],
   "source": [
    "messages_list = balanced_messages.tolist()"
   ]
  },
  {
   "cell_type": "code",
   "execution_count": 36,
   "id": "709dfd49-04af-4840-a5a1-17970252aec7",
   "metadata": {},
   "outputs": [
    {
     "name": "stderr",
     "output_type": "stream",
     "text": [
      "Generating embeddings: 100%|█████████████████████████████████████████████████████████| 180/180 [24:20<00:00,  8.11s/it]\n"
     ]
    }
   ],
   "source": [
    "matrix1 = get_embeddings_Pooling(messages_list)"
   ]
  },
  {
   "cell_type": "code",
   "execution_count": 37,
   "id": "6b3c96ce-f21a-43fc-aaf2-acb8f937f249",
   "metadata": {},
   "outputs": [],
   "source": [
    "label_list = balanced_labels.tolist()"
   ]
  },
  {
   "cell_type": "raw",
   "id": "4c917efb-8b2e-4d8d-86c6-8b036185bb4c",
   "metadata": {},
   "source": [
    "Prediction"
   ]
  },
  {
   "cell_type": "code",
   "execution_count": 24,
   "id": "e7cf5dba-f8da-4671-9a83-1cddf7a7a6c9",
   "metadata": {},
   "outputs": [
    {
     "name": "stderr",
     "output_type": "stream",
     "text": [
      "Generating embeddings: 100%|███████████████████████████████████████████████████████████| 18/18 [01:00<00:00,  3.37s/it]\n"
     ]
    }
   ],
   "source": [
    "matrix2 = get_embeddings_Pooling(test_messages)"
   ]
  },
  {
   "cell_type": "code",
   "execution_count": 38,
   "id": "9fb9a7cb-db41-4233-a157-7d9958921ba2",
   "metadata": {},
   "outputs": [],
   "source": [
    "from sklearn.svm import SVC\n",
    "from sklearn.pipeline import Pipeline\n",
    "from sklearn.preprocessing import StandardScaler\n",
    "from sklearn.feature_extraction.text import TfidfVectorizer\n",
    "from sklearn.metrics import classification_report, f1_score\n",
    "from sklearn.model_selection import RandomizedSearchCV\n",
    "# 2. Optimized SVM Pipeline\n",
    "svm_pipeline = Pipeline([\n",
    "    ('scaler', StandardScaler()),  # Critical for SVM\n",
    "    ('svm', SVC(\n",
    "        kernel='rbf',              # Better for complex patterns\n",
    "        class_weight='balanced',\n",
    "        probability=True,          # Enable predict_proba\n",
    "        cache_size=1000,           # For large datasets\n",
    "        random_state=42\n",
    "    ))\n",
    "])\n",
    "\n",
    "# 3. Hyperparameter Tuning (Reduced search space for efficiency)\n",
    "param_dist = {\n",
    "    'svm__C': [0.1, 1, 10, 100],\n",
    "    'svm__gamma': ['scale', 'auto', 0.001, 0.01]\n",
    "}\n",
    "\n",
    "search = RandomizedSearchCV(\n",
    "    svm_pipeline,\n",
    "    param_dist,\n",
    "    n_iter=10,                    # Reduced for faster tuning\n",
    "    scoring='f1_weighted',\n",
    "    cv=3,\n",
    "    n_jobs=-1\n",
    ")"
   ]
  },
  {
   "cell_type": "code",
   "execution_count": 39,
   "id": "12119ca0-2b80-49e9-99e8-35eba79d4a05",
   "metadata": {},
   "outputs": [
    {
     "name": "stdout",
     "output_type": "stream",
     "text": [
      "Accuracy: 0.25985663082437277\n"
     ]
    }
   ],
   "source": [
    "search.fit(matrix1,label_list)\n",
    "simple_svm_3 = search.predict(matrix2)\n",
    "from sklearn.metrics import accuracy_score\n",
    "print(\"Accuracy:\", accuracy_score(test_labels, simple_svm_3))"
   ]
  },
  {
   "cell_type": "code",
   "execution_count": 41,
   "id": "dbdda3d2-9545-44b5-9725-175ece0999b4",
   "metadata": {},
   "outputs": [
    {
     "name": "stdout",
     "output_type": "stream",
     "text": [
      "Accuracy: 0.4068\n",
      "Precision: 0.1633\n",
      "Recall: 0.9552\n",
      "F1 Score: 0.2789\n",
      "ROC AUC: 0.7829\n"
     ]
    },
    {
     "data": {
      "text/plain": [
       "'\\nprint(\"\\nConfusion Matrix:\")\\nprint(confusion_matrix(y_test, y_pred))\\n\\nprint(\"\\nClassification Report:\")\\nprint(classification_report(y_test, y_pred))\\n'"
      ]
     },
     "execution_count": 41,
     "metadata": {},
     "output_type": "execute_result"
    }
   ],
   "source": [
    "from sklearn.linear_model import LogisticRegression\n",
    "from sklearn.model_selection import train_test_split\n",
    "from sklearn.metrics import (accuracy_score, precision_score, recall_score, \n",
    "                            f1_score, roc_auc_score, confusion_matrix, \n",
    "                            classification_report)\n",
    "import pandas as pd\n",
    "\n",
    "# Example with synthetic data (replace with your actual data)\n",
    "# X should be your feature matrix (n_samples × n_features)\n",
    "# y should be your binary target (0 and 1)\n",
    "from sklearn.datasets import make_classification\n",
    "X, y = make_classification(n_samples=1000, n_features=10, n_classes=2, random_state=42)\n",
    "\n",
    "# Initialize and train model\n",
    "logreg = LogisticRegression(\n",
    "    penalty='l2',          # Regularization type\n",
    "    C=1.0,                # Inverse regularization strength\n",
    "    solver='lbfgs',       # Optimization algorithm\n",
    "    max_iter=1000,        # Maximum iterations\n",
    "    random_state=42\n",
    ")\n",
    "logreg.fit(matrix1,label_list )\n",
    "\n",
    "# Predictions\n",
    "y_pred = logreg.predict(matrix2)\n",
    "y_proba = logreg.predict_proba(matrix2)[:, 1]  # Probability estimates for class 1\n",
    "\n",
    "# Evaluation metrics\n",
    "print(f\"Accuracy: {accuracy_score(test_labels, y_pred):.4f}\")\n",
    "print(f\"Precision: {precision_score(test_labels, y_pred):.4f}\")\n",
    "print(f\"Recall: {recall_score(test_labels, y_pred):.4f}\")\n",
    "print(f\"F1 Score: {f1_score(test_labels, y_pred):.4f}\")\n",
    "print(f\"ROC AUC: {roc_auc_score(test_labels, y_proba):.4f}\")\n",
    "\n",
    "\"\"\"\n",
    "print(\"\\nConfusion Matrix:\")\n",
    "print(confusion_matrix(y_test, y_pred))\n",
    "\n",
    "print(\"\\nClassification Report:\")\n",
    "print(classification_report(y_test, y_pred))\n",
    "\"\"\""
   ]
  },
  {
   "cell_type": "code",
   "execution_count": null,
   "id": "96396a2a-4f9e-4ce8-8434-85b4041b5b29",
   "metadata": {},
   "outputs": [],
   "source": []
  },
  {
   "cell_type": "code",
   "execution_count": 27,
   "id": "7cab6194-b4dd-46b4-943a-e5ebb9b49081",
   "metadata": {},
   "outputs": [
    {
     "name": "stderr",
     "output_type": "stream",
     "text": [
      "Generating embeddings: 100%|█████████████████████████████████████████████████████████████| 1/1 [00:00<00:00,  1.46it/s]\n"
     ]
    }
   ],
   "source": [
    "test_messages_simple = [\n",
    "    # Non-Spam (Ham) - 15 examples\n",
    "    \"Hi John, just checking in to see if you're still on for lunch tomorrow at 12:30 PM.\",\n",
    "    \"The quarterly financial report has been uploaded to the shared drive for your review.\",\n",
    "    \"Team meeting reminder: Wednesday at 3 PM in Conference Room A. Agenda attached.\",\n",
    "    \"Your Amazon order #12345 has shipped and will arrive on Friday.\",\n",
    "    \"Thanks for your application! We'll review your resume and get back to you next week.\",\n",
    "    \"The software update has been completed successfully on all servers.\",\n",
    "    \"Mom: Don't forget we're having family dinner this Sunday at 6 PM.\",\n",
    "    \"Your monthly bank statement is now available in your online banking portal.\",\n",
    "    \"The project deadline has been extended to March 15th per client request.\",\n",
    "    \"Password reset confirmation: Your password was changed successfully.\",\n",
    "    \"Doctor's appointment reminder: You have a checkup scheduled for May 3rd at 10 AM.\",\n",
    "    \"Your subscription to Tech Magazine has been renewed automatically.\",\n",
    "    \"The attached document contains the meeting minutes from yesterday's call.\",\n",
    "    \"Your flight LAX to JFK is confirmed for departure at 8:45 AM tomorrow.\",\n",
    "    \"HR Notification: Please complete your benefits enrollment by Friday.\",\n",
    "\n",
    "    # Spam - 5 examples\n",
    "    \"URGENT: Your account will be suspended unless you verify your details now!\",\n",
    "    \"CONGRATULATIONS! You've won a free iPhone - click here to claim your prize!\",\n",
    "    \"Make $10,000 a week from home with this simple trick! No experience needed!\",\n",
    "    \"Your package couldn't be delivered - click this link to reschedule immediately!\",\n",
    "    \"Limited time offer! Act now to get 90% off - this deal expires in 1 hour!\"\n",
    "]\n",
    "\n",
    "matrix_0 = get_embeddings_Pooling(test_messages_simple)"
   ]
  },
  {
   "cell_type": "code",
   "execution_count": 29,
   "id": "ade71758-0ad8-4db1-beb8-840a825afdd6",
   "metadata": {},
   "outputs": [
    {
     "data": {
      "text/plain": [
       "array([0, 1, 1, 1, 0, 0, 0, 1, 0, 0, 1, 1, 0, 0, 1, 1, 1, 1, 1, 1])"
      ]
     },
     "execution_count": 29,
     "metadata": {},
     "output_type": "execute_result"
    }
   ],
   "source": [
    "simple_svm_3 = search.predict(matrix_0)\n",
    "simple_svm_3"
   ]
  },
  {
   "cell_type": "code",
   "execution_count": null,
   "id": "30cb71c4-82d9-40ed-9e9b-84dda2b62863",
   "metadata": {},
   "outputs": [],
   "source": []
  }
 ],
 "metadata": {
  "kernelspec": {
   "display_name": "Python 3 (ipykernel)",
   "language": "python",
   "name": "python3"
  },
  "language_info": {
   "codemirror_mode": {
    "name": "ipython",
    "version": 3
   },
   "file_extension": ".py",
   "mimetype": "text/x-python",
   "name": "python",
   "nbconvert_exporter": "python",
   "pygments_lexer": "ipython3",
   "version": "3.11.1"
  }
 },
 "nbformat": 4,
 "nbformat_minor": 5
}
