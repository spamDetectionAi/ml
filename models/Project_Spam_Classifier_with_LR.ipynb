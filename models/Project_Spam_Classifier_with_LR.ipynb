{
 "cells": [
  {
   "cell_type": "code",
   "execution_count": 1,
   "id": "aecc2467-ea37-48d6-a3ee-ee20cace7def",
   "metadata": {},
   "outputs": [],
   "source": [
    "from src import svm as svm\n",
    "from src import util as util\n",
    "import numpy as np\n",
    "import matplotlib.pyplot as plt\n",
    "import collections\n",
    "import csv"
   ]
  },
  {
   "cell_type": "code",
   "execution_count": 2,
   "id": "071792e6-6470-460c-a0ac-bde0d87d04ea",
   "metadata": {},
   "outputs": [],
   "source": [
    "def load_spam_dataset_csv(csv_path):\n",
    "    \"\"\"Load the spam dataset from a TSV file\n",
    "\n",
    "    Args:\n",
    "         csv_path: Path to TSV file containing dataset.\n",
    "\n",
    "    Returns:\n",
    "        messages: A list of string values containing the text of each message.\n",
    "        labels: The binary labels (0 or 1) for each message. A 1 indicates spam.\n",
    "    \"\"\"\n",
    "\n",
    "    messages = []\n",
    "    labels = []\n",
    "\n",
    "    with open(csv_path, 'r', newline='', encoding='utf8') as csv_file:\n",
    "        reader = csv.reader(csv_file, delimiter=',')\n",
    "\n",
    "        for message, label in reader:\n",
    "            messages.append(message)\n",
    "            labels.append(1 if label == '1' else 0)\n",
    "\n",
    "    return messages, np.array(labels)"
   ]
  },
  {
   "cell_type": "code",
   "execution_count": 3,
   "id": "f661529d-e36f-40d5-83c7-4a436c30ff00",
   "metadata": {},
   "outputs": [],
   "source": [
    "train_messages, train_labels = util.load_spam_dataset('data/ds6_train.tsv')\n",
    "test_messages, test_labels = util.load_spam_dataset('data/ds6_test.tsv')\n",
    "train2_messages, train2_labels = load_spam_dataset_csv('data/emails.csv')\n",
    "val_messages, val_labels = util.load_spam_dataset('data/ds6_val.tsv')"
   ]
  },
  {
   "cell_type": "code",
   "execution_count": 4,
   "id": "9beabc52-dade-4a91-8641-d8a75f865bbb",
   "metadata": {},
   "outputs": [],
   "source": [
    "def getwords(message):\n",
    "    return message.lower().split()"
   ]
  },
  {
   "cell_type": "code",
   "execution_count": 5,
   "id": "d340c5a0-aa94-4cec-b319-5bd6310af967",
   "metadata": {},
   "outputs": [],
   "source": [
    "def h(theta,x):\n",
    "    return 1 / (1 + np.exp(-np.dot(x, theta)))"
   ]
  },
  {
   "cell_type": "code",
   "execution_count": 6,
   "id": "3a484f66-aa8e-43f3-83cc-a32cc04cf584",
   "metadata": {},
   "outputs": [],
   "source": [
    "def Create_dictionary(messages):\n",
    "    words = [word for message in messages for word in getwords(message)]\n",
    "    words_count = collections.Counter(words)\n",
    "    #word_dic = {(word, count) for word,count in words_count.items() if count>=5}\n",
    "    freq_word = [word for word,count in words_count.items() if count>=10 and word !='subject:']\n",
    "    return {word: count for count, word in enumerate(freq_word)}"
   ]
  },
  {
   "cell_type": "code",
   "execution_count": 7,
   "id": "081c72e7-64dd-4f13-b916-b9f6995f0506",
   "metadata": {},
   "outputs": [],
   "source": [
    "dicWords = Create_dictionary(train_messages)"
   ]
  },
  {
   "cell_type": "code",
   "execution_count": 8,
   "id": "b465ce12-539a-4f19-b97a-94470df6617f",
   "metadata": {},
   "outputs": [],
   "source": [
    "def Transform_text(messages, word_dictionary):\n",
    "    m = len(messages)\n",
    "    n = len(word_dictionary)\n",
    "    matrix = np.zeros((m,n), dtype=int)\n",
    "\n",
    "    word_counts = [collections.Counter(getwords(message)) for message in messages]\n",
    "    for i in range(m):\n",
    "        for word, count in word_counts[i].items():\n",
    "            if word in word_dictionary:\n",
    "                matrix[i][word_dictionary[word]] += count\n",
    "\n",
    "    return matrix\n"
   ]
  },
  {
   "cell_type": "code",
   "execution_count": 9,
   "id": "ad4c1b1d-7723-4109-9bd2-4ecbfcb3a634",
   "metadata": {},
   "outputs": [],
   "source": [
    "train_matrix = Transform_text(train_messages,dicWords)"
   ]
  },
  {
   "cell_type": "code",
   "execution_count": 34,
   "id": "a9ee47a1-e3a2-4ed7-b315-49bb1d73b0cc",
   "metadata": {},
   "outputs": [],
   "source": [
    "test_matrix = Transform_text(test_messages,dicWords)"
   ]
  },
  {
   "cell_type": "code",
   "execution_count": 35,
   "id": "522468ab-1a4f-4af6-a9b8-43c82907a950",
   "metadata": {},
   "outputs": [
    {
     "data": {
      "text/plain": [
       "array([[1, 1, 1, ..., 0, 0, 0],\n",
       "       [0, 0, 0, ..., 0, 0, 0],\n",
       "       [0, 0, 0, ..., 0, 0, 0],\n",
       "       ...,\n",
       "       [0, 0, 1, ..., 0, 0, 0],\n",
       "       [0, 0, 0, ..., 0, 0, 0],\n",
       "       [0, 0, 0, ..., 0, 0, 0]], shape=(4457, 877))"
      ]
     },
     "execution_count": 35,
     "metadata": {},
     "output_type": "execute_result"
    }
   ],
   "source": [
    "train_matrix"
   ]
  },
  {
   "cell_type": "code",
   "execution_count": 36,
   "id": "fad314f2-425c-4268-86a3-5d5e0ce665bb",
   "metadata": {},
   "outputs": [],
   "source": [
    "X_with_bias = np.c_[np.ones(train_matrix.shape[0]),train_matrix]"
   ]
  },
  {
   "cell_type": "code",
   "execution_count": 81,
   "id": "a9e7d31c-493a-40ce-90aa-e670a02a9686",
   "metadata": {},
   "outputs": [],
   "source": [
    "class LogisticRegressionWithGD:\n",
    "    def __init__(self,alpha=0.1,iteration=1000):\n",
    "        self.alpha = alpha\n",
    "        self.iteration=iteration\n",
    "        self.theta=None\n",
    "    def h(self,theta, x):\n",
    "        return 1 / (1 + np.exp(-np.dot(x, theta)))\n",
    "    def fit(self,x,y):\n",
    "        n,m = x.shape\n",
    "        X_with_bias = np.c_[np.ones(n),x]\n",
    "        self.theta = np.zeros(m+1)\n",
    "        #Gradient\n",
    "        for i in range(self.iteration):\n",
    "            linearmodel = np.dot(X_with_bias.T, (self.h(self.theta, X_with_bias)-y))/m\n",
    "            self.theta = self.theta - self.alpha*linearmodel\n",
    "        \n",
    "        \n",
    "    def predict(self,x):\n",
    "        X_with_bias = np.c_[np.ones(x.shape[0]),x]\n",
    "        y_predicted = 1/(1+np.exp(-X_with_bias.dot(self.theta)))\n",
    "        y_result = [1 if i>0.5 else 0 for i in y_predicted]\n",
    "        return y_result"
   ]
  },
  {
   "cell_type": "code",
   "execution_count": 142,
   "id": "6074d896-2ba5-422e-8e70-76a675226237",
   "metadata": {},
   "outputs": [],
   "source": [
    "LR = LogisticRegressionWithGD(alpha=0.01,iteration=1000)\n",
    "LR.fit(train_matrix,train_labels)\n",
    "LR_predictions = LR.predict(train_matrix)"
   ]
  },
  {
   "cell_type": "code",
   "execution_count": 143,
   "id": "b5537c0c-df7b-49e9-a72f-8c434ae33389",
   "metadata": {},
   "outputs": [],
   "source": [
    "LR_accuracy = np.mean(LR_predictions == train_labels)"
   ]
  },
  {
   "cell_type": "code",
   "execution_count": 144,
   "id": "47edc7fb-e883-47f3-8891-800b26bb2a28",
   "metadata": {},
   "outputs": [
    {
     "name": "stdout",
     "output_type": "stream",
     "text": [
      "SimpLe Logistic Regression had an accuracy of 0.949293246578416 on the testing set\n"
     ]
    }
   ],
   "source": [
    "print('SimpLe Logistic Regression had an accuracy of {} on the testing set'.format(LR_accuracy))"
   ]
  },
  {
   "cell_type": "code",
   "execution_count": 152,
   "id": "39874a94-6d63-4794-8b19-36962b495de0",
   "metadata": {},
   "outputs": [],
   "source": [
    "simpletesting=[\n",
    "'this product is good check this url'\n",
    "]"
   ]
  },
  {
   "cell_type": "code",
   "execution_count": 153,
   "id": "0d196271-df73-4052-998c-606f93de71d1",
   "metadata": {},
   "outputs": [],
   "source": [
    "testing1_matrix = Transform_text(simpletesting,dicWords)"
   ]
  },
  {
   "cell_type": "code",
   "execution_count": 154,
   "id": "7c2ded39-375b-4911-9317-f27f28b00e5e",
   "metadata": {},
   "outputs": [
    {
     "data": {
      "text/plain": [
       "[0]"
      ]
     },
     "execution_count": 154,
     "metadata": {},
     "output_type": "execute_result"
    }
   ],
   "source": [
    "\n",
    "LR_predictions2 = LR.predict(testing1_matrix)\n",
    "LR_predictions2"
   ]
  },
  {
   "cell_type": "code",
   "execution_count": null,
   "id": "a1819ad4-aaf3-4565-a061-b9faee96e72a",
   "metadata": {},
   "outputs": [],
   "source": []
  },
  {
   "cell_type": "code",
   "execution_count": null,
   "id": "8e3132e4-31bb-4f43-849b-cc4fec3eec43",
   "metadata": {},
   "outputs": [],
   "source": []
  },
  {
   "cell_type": "code",
   "execution_count": null,
   "id": "1a2bd758-1ef8-4c8c-97a3-c5fbcd3cc47c",
   "metadata": {},
   "outputs": [],
   "source": []
  },
  {
   "cell_type": "markdown",
   "id": "6d6129f0-c145-46ba-8525-63e315f7d65d",
   "metadata": {},
   "source": [
    "use Large dataset"
   ]
  },
  {
   "cell_type": "code",
   "execution_count": 155,
   "id": "2ff7d89c-938c-4088-b8fe-337580b73ff4",
   "metadata": {},
   "outputs": [],
   "source": [
    "vocabulary = Create_dictionary(train2_messages)"
   ]
  },
  {
   "cell_type": "code",
   "execution_count": 156,
   "id": "40e4a804-c4fe-44ca-b6bf-de671049d5c1",
   "metadata": {},
   "outputs": [],
   "source": [
    "train2_matrix = Transform_text(train2_messages,vocabulary)"
   ]
  },
  {
   "cell_type": "code",
   "execution_count": null,
   "id": "fedcd199-3f1e-46be-a3bf-6422b81d3fda",
   "metadata": {},
   "outputs": [],
   "source": []
  },
  {
   "cell_type": "code",
   "execution_count": 160,
   "id": "fe9cd66a-d19d-4e50-b195-018d8007fafe",
   "metadata": {},
   "outputs": [],
   "source": [
    "LR2 = LogisticRegressionWithGD(alpha=0.01,iteration=1000)\n",
    "LR2.fit(train2_matrix,train2_labels)"
   ]
  },
  {
   "cell_type": "code",
   "execution_count": 161,
   "id": "e7710be3-66e9-4c90-a769-a8a5cfb5beb7",
   "metadata": {},
   "outputs": [],
   "source": [
    "LR_predictions2 = LR.predict(train2_matrix)\n",
    "LR_accuracy2 = np.mean(LR_predictions == train2_labels)"
   ]
  },
  {
   "cell_type": "code",
   "execution_count": 162,
   "id": "5020fddf-c177-4d61-8217-2a60e9c201e1",
   "metadata": {},
   "outputs": [
    {
     "name": "stdout",
     "output_type": "stream",
     "text": [
      "SimpLe Logistic Regression with large dataset had an accuracy of 0.9712343096234309 on the testing set\n"
     ]
    }
   ],
   "source": [
    "print('SimpLe Logistic Regression with large dataset had an accuracy of {} on the testing set'.format(LR_accuracy2))"
   ]
  },
  {
   "cell_type": "code",
   "execution_count": 187,
   "id": "0947d829-c238-4f44-9441-aff7d136f1e2",
   "metadata": {},
   "outputs": [],
   "source": [
    "simpletesting2=[\n",
    "'Claim your free money'\n",
    "]\n"
   ]
  },
  {
   "cell_type": "code",
   "execution_count": 188,
   "id": "69c81206-15bf-402f-9d62-2639e2d7ce87",
   "metadata": {},
   "outputs": [],
   "source": [
    "testing2 = Transform_text(simpletesting2,vocabulary)"
   ]
  },
  {
   "cell_type": "code",
   "execution_count": 189,
   "id": "d98ed403-2e65-4a3d-97be-ac3ef13f444a",
   "metadata": {},
   "outputs": [
    {
     "data": {
      "text/plain": [
       "[1]"
      ]
     },
     "execution_count": 189,
     "metadata": {},
     "output_type": "execute_result"
    }
   ],
   "source": [
    "resulttesting2 = LR.predict(testing2)\n",
    "resulttesting2"
   ]
  },
  {
   "cell_type": "code",
   "execution_count": null,
   "id": "99227e57-d9dc-40fc-962b-4427c2cafc30",
   "metadata": {},
   "outputs": [],
   "source": []
  }
 ],
 "metadata": {
  "kernelspec": {
   "display_name": "Python 3 (ipykernel)",
   "language": "python",
   "name": "python3"
  },
  "language_info": {
   "codemirror_mode": {
    "name": "ipython",
    "version": 3
   },
   "file_extension": ".py",
   "mimetype": "text/x-python",
   "name": "python",
   "nbconvert_exporter": "python",
   "pygments_lexer": "ipython3",
   "version": "3.12.0"
  }
 },
 "nbformat": 4,
 "nbformat_minor": 5
}
