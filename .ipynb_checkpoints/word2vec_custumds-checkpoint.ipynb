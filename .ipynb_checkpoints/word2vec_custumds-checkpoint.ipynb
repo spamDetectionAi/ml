{
 "cells": [
  {
   "cell_type": "code",
   "execution_count": 31,
   "id": "aecc2467-ea37-48d6-a3ee-ee20cace7def",
   "metadata": {},
   "outputs": [],
   "source": [
    "from src import util as util\n",
    "import numpy as np\n",
    "import matplotlib.pyplot as plt\n",
    "import collections\n",
    "import csv"
   ]
  },
  {
   "cell_type": "code",
   "execution_count": 32,
   "id": "071792e6-6470-460c-a0ac-bde0d87d04ea",
   "metadata": {},
   "outputs": [],
   "source": [
    "def load_spam_dataset_csv(csv_path):\n",
    "\n",
    "    messages = []\n",
    "    labels = []\n",
    "\n",
    "    with open(csv_path, 'r', newline='', encoding='utf8') as csv_file:\n",
    "        reader = csv.reader(csv_file, delimiter=',')\n",
    "\n",
    "        for message, label in reader:\n",
    "            messages.append(message)\n",
    "            labels.append(1 if label == '1' else 0)\n",
    "\n",
    "    return messages, np.array(labels)"
   ]
  },
  {
   "cell_type": "code",
   "execution_count": 33,
   "id": "f661529d-e36f-40d5-83c7-4a436c30ff00",
   "metadata": {},
   "outputs": [],
   "source": [
    "train_messages, train_labels = util.load_spam_dataset('data/train.tsv')\n",
    "test_messages, test_labels = util.load_spam_dataset('data/test.tsv')\n",
    "train2_messages, train2_labels = load_spam_dataset_csv('data/emails_new_train.csv')\n",
    "val_messages, val_labels = util.load_spam_dataset('data/val.tsv')"
   ]
  },
  {
   "cell_type": "code",
   "execution_count": 37,
   "id": "5d821ec5-336f-4c12-b5f7-4d54d0361c7a",
   "metadata": {},
   "outputs": [
    {
     "name": "stderr",
     "output_type": "stream",
     "text": [
      "[nltk_data] Downloading package punkt to\n",
      "[nltk_data]     C:\\Users\\ASUS\\AppData\\Roaming\\nltk_data...\n",
      "[nltk_data]   Unzipping tokenizers\\punkt.zip.\n"
     ]
    },
    {
     "data": {
      "text/plain": [
       "True"
      ]
     },
     "execution_count": 37,
     "metadata": {},
     "output_type": "execute_result"
    }
   ],
   "source": [
    "from gensim.models import Word2Vec\n",
    "import nltk\n",
    "from nltk.tokenize import word_tokenize\n",
    "\n",
    "nltk.download('punkt')"
   ]
  },
  {
   "cell_type": "code",
   "execution_count": 40,
   "id": "ee439f28-03f6-40e5-966c-744dc2b1a545",
   "metadata": {},
   "outputs": [],
   "source": [
    "# More robust tokenization with error handling\n",
    "def safe_tokenize(text):\n",
    "    try:\n",
    "        return word_tokenize(str(text).lower())\n",
    "    except:\n",
    "        return str(text).lower().split()  # Fallback to simple whitespace splitting\n",
    "\n",
    "tokenized_messages = [safe_tokenize(msg) for msg in train_messages]"
   ]
  },
  {
   "cell_type": "code",
   "execution_count": 41,
   "id": "9c6c89eb-3c4e-4974-9ba5-466db7d339c3",
   "metadata": {},
   "outputs": [
    {
     "name": "stdout",
     "output_type": "stream",
     "text": [
      "Training Word2Vec model...\n"
     ]
    }
   ],
   "source": [
    "# Train Word2Vec model with optimized parameters\n",
    "print(\"Training Word2Vec model...\")\n",
    "w2v_model = Word2Vec(\n",
    "    sentences=tokenized_messages,\n",
    "    vector_size=100,\n",
    "    window=5,\n",
    "    min_count=2,\n",
    "    workers=4,\n",
    "    epochs=20,\n",
    "    sg=1,  # Use skip-gram (better for small datasets)\n",
    "    hs=0,  # Use negative sampling\n",
    "    negative=5  # Number of negative samples\n",
    ")"
   ]
  },
  {
   "cell_type": "code",
   "execution_count": 42,
   "id": "10aa6c66-4e43-48cf-9cd1-9d59cf432367",
   "metadata": {},
   "outputs": [],
   "source": [
    "def message_to_vector(message, model, vector_size=100):\n",
    "    words = safe_tokenize(message)\n",
    "    word_vectors = []\n",
    "    for word in words:\n",
    "        try:\n",
    "            if word in model.wv:\n",
    "                word_vectors.append(model.wv[word])\n",
    "        except AttributeError:\n",
    "            # Handle case where model isn't properly trained\n",
    "            pass\n",
    "    \n",
    "    if len(word_vectors) > 0:\n",
    "        return np.mean(word_vectors, axis=0)\n",
    "    return np.zeros(vector_size)"
   ]
  },
  {
   "cell_type": "code",
   "execution_count": 47,
   "id": "95154ac4-f2d6-41b4-a414-1f80346c818f",
   "metadata": {},
   "outputs": [
    {
     "data": {
      "text/plain": [
       "4457"
      ]
     },
     "execution_count": 47,
     "metadata": {},
     "output_type": "execute_result"
    }
   ],
   "source": [
    "len(train_messages)"
   ]
  },
  {
   "cell_type": "code",
   "execution_count": 57,
   "id": "81f368bb-363c-4b27-b5c2-b454582aa198",
   "metadata": {},
   "outputs": [
    {
     "data": {
      "text/plain": [
       "array([ 0.0797162 ,  0.26529533, -0.3146014 , -0.17379577, -0.04358215,\n",
       "       -0.33298567,  0.10910948,  0.57695574, -0.16541314, -0.43402195,\n",
       "        0.00810644,  0.12994857, -0.06541175, -0.00713547,  0.12872253,\n",
       "       -0.03024413, -0.10108355, -0.02690936, -0.21397024, -0.3973633 ,\n",
       "        0.10659249, -0.09603582,  0.07216713,  0.05844631, -0.02883809,\n",
       "       -0.11909046, -0.18177868, -0.17533267, -0.0201648 ,  0.26320148,\n",
       "        0.24402706,  0.2011758 ,  0.2037715 , -0.3108583 ,  0.1252409 ,\n",
       "        0.4230165 , -0.04945426,  0.19835469, -0.1674993 , -0.1410854 ,\n",
       "        0.02388405, -0.21114796,  0.016528  ,  0.05599641,  0.1648625 ,\n",
       "       -0.12053607,  0.13165128, -0.34255785,  0.14390811,  0.4379556 ,\n",
       "        0.22579348, -0.13078678, -0.12901668,  0.12449142,  0.0719217 ,\n",
       "        0.13972539,  0.05938465,  0.0837616 , -0.11291664,  0.04863135,\n",
       "       -0.04465744,  0.3759467 ,  0.03709213,  0.24815892, -0.30031735,\n",
       "        0.15419695,  0.17186145,  0.17140612, -0.14221078,  0.22504503,\n",
       "       -0.03817306, -0.11893723,  0.33719355, -0.06077632,  0.34570524,\n",
       "       -0.02440384, -0.02910607, -0.04944192, -0.20042393,  0.01029544,\n",
       "       -0.273959  , -0.33427176, -0.21459456,  0.24718106,  0.00148689,\n",
       "        0.3076534 , -0.18079169,  0.35480064,  0.30416325,  0.00282163,\n",
       "        0.20194547,  0.03485389, -0.04363225,  0.15245911,  0.20670617,\n",
       "        0.12886183,  0.14838019, -0.37668774, -0.1814381 , -0.08935651],\n",
       "      dtype=float32)"
      ]
     },
     "execution_count": 57,
     "metadata": {},
     "output_type": "execute_result"
    }
   ],
   "source": [
    "message_to_vector(\"visit\",w2v_model)"
   ]
  },
  {
   "cell_type": "code",
   "execution_count": 59,
   "id": "52c83d15-cf3f-4d50-9409-b488315b3647",
   "metadata": {},
   "outputs": [],
   "source": [
    "Xhh_train = np.array([message_to_vector(msg, w2v_model) for msg in train_messages])"
   ]
  },
  {
   "cell_type": "code",
   "execution_count": 61,
   "id": "b1714df4-fb37-41d2-9020-320fe8db95c7",
   "metadata": {},
   "outputs": [
    {
     "data": {
      "text/plain": [
       "(4457, 100)"
      ]
     },
     "execution_count": 61,
     "metadata": {},
     "output_type": "execute_result"
    }
   ],
   "source": [
    "Xhh_train.shape"
   ]
  },
  {
   "cell_type": "code",
   "execution_count": null,
   "id": "24b469ff-9a16-4427-badb-736f0265b7e4",
   "metadata": {},
   "outputs": [],
   "source": []
  },
  {
   "cell_type": "code",
   "execution_count": null,
   "id": "8f360578-a193-4f77-bb07-0951a14cb93e",
   "metadata": {},
   "outputs": [],
   "source": []
  },
  {
   "cell_type": "code",
   "execution_count": 7,
   "id": "9beabc52-dade-4a91-8641-d8a75f865bbb",
   "metadata": {},
   "outputs": [],
   "source": [
    "def getwords(message):\n",
    "    return message.lower().split()"
   ]
  },
  {
   "cell_type": "code",
   "execution_count": 8,
   "id": "d340c5a0-aa94-4cec-b319-5bd6310af967",
   "metadata": {},
   "outputs": [],
   "source": [
    "def h(theta,x):\n",
    "    return 1 / (1 + np.exp(-np.dot(x, theta)))"
   ]
  },
  {
   "cell_type": "code",
   "execution_count": 9,
   "id": "3a484f66-aa8e-43f3-83cc-a32cc04cf584",
   "metadata": {},
   "outputs": [],
   "source": [
    "def Create_dictionary(messages):\n",
    "    words = [word for message in messages for word in getwords(message)]\n",
    "    words_count = collections.Counter(words)\n",
    "    #word_dic = {(word, count) for word,count in words_count.items() if count>=5}\n",
    "    freq_word = [word for word,count in words_count.items() if count>=10 and word !='subject:']\n",
    "    return {word: count for count, word in enumerate(freq_word)}"
   ]
  },
  {
   "cell_type": "code",
   "execution_count": 10,
   "id": "081c72e7-64dd-4f13-b916-b9f6995f0506",
   "metadata": {},
   "outputs": [],
   "source": [
    "dicWords = Create_dictionary(train_messages)"
   ]
  },
  {
   "cell_type": "code",
   "execution_count": null,
   "id": "9edb1336-e2be-44a7-a33d-da2efc60e56b",
   "metadata": {},
   "outputs": [],
   "source": []
  },
  {
   "cell_type": "code",
   "execution_count": 11,
   "id": "b465ce12-539a-4f19-b97a-94470df6617f",
   "metadata": {},
   "outputs": [],
   "source": [
    "def Transform_text(messages, word_dictionary):\n",
    "    m = len(messages)\n",
    "    n = len(word_dictionary)\n",
    "    matrix = np.zeros((m,n), dtype=int)\n",
    "\n",
    "    word_counts = [collections.Counter(getwords(message)) for message in messages]\n",
    "    for i in range(m):\n",
    "        for word, count in word_counts[i].items():\n",
    "            if word in word_dictionary:\n",
    "                matrix[i][word_dictionary[word]] += count\n",
    "\n",
    "    return matrix\n"
   ]
  },
  {
   "cell_type": "code",
   "execution_count": 12,
   "id": "40729348-154f-47cc-b4be-34b2b21e9d3f",
   "metadata": {},
   "outputs": [],
   "source": [
    "train_matrix = Transform_text(train_messages,dicWords)"
   ]
  },
  {
   "cell_type": "code",
   "execution_count": 58,
   "id": "522468ab-1a4f-4af6-a9b8-43c82907a950",
   "metadata": {},
   "outputs": [
    {
     "data": {
      "text/plain": [
       "(4457, 877)"
      ]
     },
     "execution_count": 58,
     "metadata": {},
     "output_type": "execute_result"
    }
   ],
   "source": [
    "train_matrix.shape"
   ]
  },
  {
   "cell_type": "code",
   "execution_count": 14,
   "id": "fad314f2-425c-4268-86a3-5d5e0ce665bb",
   "metadata": {},
   "outputs": [],
   "source": [
    "X_with_bias = np.c_[np.ones(train_matrix.shape[0]),train_matrix]"
   ]
  },
  {
   "cell_type": "code",
   "execution_count": 15,
   "id": "a9e7d31c-493a-40ce-90aa-e670a02a9686",
   "metadata": {},
   "outputs": [],
   "source": [
    "class LogisticRegressionWithGD:\n",
    "    def __init__(self,alpha=0.1,iteration=1000):\n",
    "        self.alpha = alpha\n",
    "        self.iteration=iteration\n",
    "        self.theta=None\n",
    "    def h(self,theta, x):\n",
    "        return 1 / (1 + np.exp(-np.dot(x, theta)))\n",
    "    def fit(self,x,y):\n",
    "        lambda_ = 1\n",
    "        n,m = x.shape\n",
    "        X_with_bias = np.c_[np.ones(n),x]\n",
    "        self.theta = np.zeros(m+1)\n",
    "        #Gradient\n",
    "        for i in range(self.iteration):\n",
    "            #With regularization\n",
    "            linearmodel = (np.dot(X_with_bias.T, (self.h(self.theta, X_with_bias)-y))/m)\n",
    "            L1_reg = np.sign(self.theta)*lambda_\n",
    "\n",
    "            L2_reg = lambda_*self.theta\n",
    "            linearmodel += L2_reg\n",
    "            self.theta = self.theta - self.alpha*linearmodel\n",
    "        \n",
    "        \n",
    "    def predict(self,x):\n",
    "        X_with_bias = np.c_[np.ones(x.shape[0]),x]\n",
    "        y_predicted = 1/(1+np.exp(-X_with_bias.dot(self.theta)))\n",
    "        y_result = [1 if i>0.5 else 0 for i in y_predicted]\n",
    "        return y_result"
   ]
  },
  {
   "cell_type": "code",
   "execution_count": 16,
   "id": "6074d896-2ba5-422e-8e70-76a675226237",
   "metadata": {},
   "outputs": [],
   "source": [
    "LR = LogisticRegressionWithGD(alpha=0.01,iteration=1000)\n",
    "LR.fit(train_matrix,train_labels)\n",
    "LR_predictions = LR.predict(train_matrix)"
   ]
  },
  {
   "cell_type": "code",
   "execution_count": null,
   "id": "fe3047cf-b156-45be-a453-d7fa6f0a421f",
   "metadata": {},
   "outputs": [],
   "source": []
  },
  {
   "cell_type": "code",
   "execution_count": 17,
   "id": "b5537c0c-df7b-49e9-a72f-8c434ae33389",
   "metadata": {},
   "outputs": [],
   "source": [
    "LR_accuracy = np.mean(LR_predictions == train_labels)"
   ]
  },
  {
   "cell_type": "code",
   "execution_count": 18,
   "id": "47edc7fb-e883-47f3-8891-800b26bb2a28",
   "metadata": {},
   "outputs": [
    {
     "name": "stdout",
     "output_type": "stream",
     "text": [
      "SimpLe Logistic Regression had an accuracy of 0.863585371326004 on the testing set\n"
     ]
    }
   ],
   "source": [
    "print('SimpLe Logistic Regression had an accuracy of {} on the testing set'.format(LR_accuracy))"
   ]
  },
  {
   "cell_type": "code",
   "execution_count": 19,
   "id": "39874a94-6d63-4794-8b19-36962b495de0",
   "metadata": {},
   "outputs": [],
   "source": [
    "simpletesting=[\n",
    "'buy on site this product now',\n",
    "    'Get new phone free Click this URL',\n",
    "\"Don't forget to Subscribe our page in www.hh.com\",\n",
    "\"Urgent your Account has been compromised. Verify your details now\",\n",
    "    \"Making $5000 a week working from home. No Skills required\",\n",
    "\"Your Package delivery failed. Click here to reschedule\",\n",
    "    \"Act now this offer expires in 24 hours\",\n",
    "    \"Get rich quick with this one simple trick\",\n",
    "    \"Warning: your computer is as risk. Download this antivirus now \"\n",
    "]"
   ]
  },
  {
   "cell_type": "code",
   "execution_count": 20,
   "id": "0d196271-df73-4052-998c-606f93de71d1",
   "metadata": {},
   "outputs": [],
   "source": [
    "testing1_matrix = Transform_text(simpletesting,dicWords)"
   ]
  },
  {
   "cell_type": "code",
   "execution_count": 21,
   "id": "a694bf3a-3899-42fd-bb91-674c6fa5a610",
   "metadata": {},
   "outputs": [
    {
     "data": {
      "text/plain": [
       "(9, 877)"
      ]
     },
     "execution_count": 21,
     "metadata": {},
     "output_type": "execute_result"
    }
   ],
   "source": [
    "testing1_matrix.shape"
   ]
  },
  {
   "cell_type": "markdown",
   "id": "6d6129f0-c145-46ba-8525-63e315f7d65d",
   "metadata": {},
   "source": [
    "use Large dataset"
   ]
  },
  {
   "cell_type": "code",
   "execution_count": 22,
   "id": "2ff7d89c-938c-4088-b8fe-337580b73ff4",
   "metadata": {},
   "outputs": [],
   "source": [
    "vocabulary = Create_dictionary(train2_messages)"
   ]
  },
  {
   "cell_type": "code",
   "execution_count": 23,
   "id": "fedcd199-3f1e-46be-a3bf-6422b81d3fda",
   "metadata": {},
   "outputs": [
    {
     "data": {
      "text/plain": [
       "array([0, 1, 1, ..., 0, 0, 1])"
      ]
     },
     "execution_count": 23,
     "metadata": {},
     "output_type": "execute_result"
    }
   ],
   "source": [
    "train2_labels"
   ]
  },
  {
   "cell_type": "code",
   "execution_count": 24,
   "id": "6aded30f-64b6-4617-a46d-7db193c5fd5e",
   "metadata": {},
   "outputs": [],
   "source": [
    "test2_matrix = Transform_text(test_messages,vocabulary)"
   ]
  },
  {
   "cell_type": "code",
   "execution_count": 25,
   "id": "62cdde29-e374-4214-aca9-ce9835e76a3a",
   "metadata": {},
   "outputs": [],
   "source": [
    "train2_matrix = Transform_text(train2_messages,vocabulary)"
   ]
  },
  {
   "cell_type": "code",
   "execution_count": 26,
   "id": "fe9cd66a-d19d-4e50-b195-018d8007fafe",
   "metadata": {},
   "outputs": [],
   "source": [
    "LR2 = LogisticRegressionWithGD(alpha=0.01,iteration=1000)\n",
    "LR2.fit(train2_matrix,train2_labels)"
   ]
  },
  {
   "cell_type": "code",
   "execution_count": null,
   "id": "f117f878-007a-4a63-b159-9f2290321737",
   "metadata": {},
   "outputs": [],
   "source": []
  },
  {
   "cell_type": "code",
   "execution_count": null,
   "id": "e6864fca-8cd5-4a0f-9874-26b818d9ae1a",
   "metadata": {},
   "outputs": [],
   "source": [
    "test2_matrix.shape"
   ]
  },
  {
   "cell_type": "code",
   "execution_count": 48,
   "id": "e7710be3-66e9-4c90-a769-a8a5cfb5beb7",
   "metadata": {},
   "outputs": [],
   "source": [
    "LR_predictions2 = LR2.predict(test2_matrix)\n",
    "LR_accuracy2 = np.mean(LR_predictions2 == test_labels)"
   ]
  },
  {
   "cell_type": "code",
   "execution_count": 49,
   "id": "5020fddf-c177-4d61-8217-2a60e9c201e1",
   "metadata": {},
   "outputs": [
    {
     "name": "stdout",
     "output_type": "stream",
     "text": [
      "SimpLe Logistic Regression with large dataset had an accuracy of 0.8405017921146953 on the testing set\n"
     ]
    }
   ],
   "source": [
    "print('SimpLe Logistic Regression with large dataset had an accuracy of {} on the testing set'.format(LR_accuracy2))"
   ]
  },
  {
   "cell_type": "code",
   "execution_count": 50,
   "id": "0947d829-c238-4f44-9441-aff7d136f1e2",
   "metadata": {},
   "outputs": [],
   "source": [
    "simpletesting2=[\n",
    "'this product is good check this url',\n",
    "    'Get new phone free Click this URL',\n",
    "\"Don't forget to Subscribe our page in www.hh.com\",\n",
    "\"Urgent your Account has been compromised. Verify your details now\",\n",
    "    \"Making $5000 a week working from home. No Skills required\",\n",
    "\"Your Package delivery failed. Click here to reschedule\",\n",
    "    \"Act now this offer expires in 24 hours\",\n",
    "    \"Get rich quick with this one simple trick\",\n",
    "    \"Warning: your computer is as risk. Download this antivirus now \"\n",
    "]\n"
   ]
  },
  {
   "cell_type": "code",
   "execution_count": 51,
   "id": "69c81206-15bf-402f-9d62-2639e2d7ce87",
   "metadata": {},
   "outputs": [],
   "source": [
    "testing2 = Transform_text(simpletesting2,vocabulary)"
   ]
  },
  {
   "cell_type": "code",
   "execution_count": 52,
   "id": "d98ed403-2e65-4a3d-97be-ac3ef13f444a",
   "metadata": {},
   "outputs": [
    {
     "data": {
      "text/plain": [
       "[1, 1, 0, 1, 1, 1, 1, 1, 1]"
      ]
     },
     "execution_count": 52,
     "metadata": {},
     "output_type": "execute_result"
    }
   ],
   "source": [
    "resulttesting2 = LR2.predict(testing2)\n",
    "resulttesting2"
   ]
  },
  {
   "cell_type": "code",
   "execution_count": null,
   "id": "4bb7a02d-049c-4f87-be06-7fc850eeb99c",
   "metadata": {},
   "outputs": [],
   "source": []
  },
  {
   "cell_type": "code",
   "execution_count": null,
   "id": "44441b96-44d7-4c19-8675-3ca9600a5f50",
   "metadata": {},
   "outputs": [],
   "source": []
  },
  {
   "cell_type": "code",
   "execution_count": null,
   "id": "6825078b-26cb-4bac-9138-8150bded3327",
   "metadata": {},
   "outputs": [],
   "source": []
  },
  {
   "cell_type": "code",
   "execution_count": null,
   "id": "6c05491c-1c70-497a-82fc-c030a7ef3b60",
   "metadata": {},
   "outputs": [],
   "source": []
  },
  {
   "cell_type": "code",
   "execution_count": null,
   "id": "3366a8fc-b9db-453d-bb43-e61d78ec578e",
   "metadata": {},
   "outputs": [],
   "source": []
  },
  {
   "cell_type": "code",
   "execution_count": null,
   "id": "c0c71694-db5f-4bd1-be3d-478256b43bf2",
   "metadata": {},
   "outputs": [],
   "source": []
  },
  {
   "cell_type": "code",
   "execution_count": null,
   "id": "196c8342-7507-49ed-a0c8-99b27d7122ca",
   "metadata": {},
   "outputs": [],
   "source": []
  },
  {
   "cell_type": "code",
   "execution_count": null,
   "id": "4d0c5c52-d8e4-4b52-8c85-adaf4717a875",
   "metadata": {},
   "outputs": [],
   "source": []
  },
  {
   "cell_type": "code",
   "execution_count": null,
   "id": "cb787c7a-1bf1-473c-9f99-8e7bb8deede2",
   "metadata": {},
   "outputs": [],
   "source": []
  },
  {
   "cell_type": "code",
   "execution_count": null,
   "id": "d8d83a2d-181f-4727-84c5-0760f3500a67",
   "metadata": {},
   "outputs": [],
   "source": []
  },
  {
   "cell_type": "code",
   "execution_count": null,
   "id": "77c4f21f-ecc3-4cf9-8579-595c9e15f00b",
   "metadata": {},
   "outputs": [],
   "source": []
  }
 ],
 "metadata": {
  "kernelspec": {
   "display_name": "Python 3 (ipykernel)",
   "language": "python",
   "name": "python3"
  },
  "language_info": {
   "codemirror_mode": {
    "name": "ipython",
    "version": 3
   },
   "file_extension": ".py",
   "mimetype": "text/x-python",
   "name": "python",
   "nbconvert_exporter": "python",
   "pygments_lexer": "ipython3",
   "version": "3.11.1"
  }
 },
 "nbformat": 4,
 "nbformat_minor": 5
}
