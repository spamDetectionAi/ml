{
 "cells": [
  {
   "cell_type": "code",
   "execution_count": 1,
   "id": "aecc2467-ea37-48d6-a3ee-ee20cace7def",
   "metadata": {},
   "outputs": [],
   "source": [
    "from src import util as util\n",
    "import numpy as np\n",
    "import pandas as pd\n",
    "import seaborn as sns\n",
    "import matplotlib.pyplot as plt\n",
    "import collections\n",
    "from pathlib import Path\n",
    "import csv"
   ]
  },
  {
   "cell_type": "code",
   "execution_count": 2,
   "id": "071792e6-6470-460c-a0ac-bde0d87d04ea",
   "metadata": {},
   "outputs": [],
   "source": [
    "def load_spam_dataset_csv(csv_path):\n",
    "\n",
    "    messages = []\n",
    "    labels = []\n",
    "\n",
    "    with open(csv_path, 'r', newline='', encoding='utf8') as csv_file:\n",
    "        reader = csv.reader(csv_file, delimiter=',')\n",
    "\n",
    "        for message, label in reader:\n",
    "            messages.append(message)\n",
    "            labels.append(1 if label == '1' else 0)\n",
    "\n",
    "    return messages, np.array(labels)"
   ]
  },
  {
   "cell_type": "code",
   "execution_count": 3,
   "id": "f661529d-e36f-40d5-83c7-4a436c30ff00",
   "metadata": {},
   "outputs": [],
   "source": [
    "train_messages, train_labels = util.load_spam_dataset('data/train.tsv')\n",
    "test_messages, test_labels = util.load_spam_dataset('data/test.tsv')\n",
    "train2_messages, train2_labels = load_spam_dataset_csv('data/emails_new_train.csv')\n",
    "val_messages, val_labels = util.load_spam_dataset('data/val.tsv')"
   ]
  },
  {
   "cell_type": "code",
   "execution_count": 4,
   "id": "1aaeadf8-b8e1-498e-91d0-125270117925",
   "metadata": {},
   "outputs": [],
   "source": [
    "import pandas as pd\n",
    "import matplotlib.pyplot as plt\n",
    "import seaborn as sns\n",
    "import chardet\n",
    "from typing import Optional, Union\n",
    "from pathlib import Path\n",
    "\n",
    "def detect_encoding(file_path: str) -> str:\n",
    "    \"\"\"Detect file encoding using chardet\"\"\"\n",
    "    with open(file_path, 'rb') as f:\n",
    "        result = chardet.detect(f.read())\n",
    "    return result['encoding']\n",
    "\n",
    "def show_message_distributions(\n",
    "    file_path: Union[str, Path],\n",
    "    text_col: str = 'text',\n",
    "    label_col: str = 'spam',\n",
    "    label_mapping: Optional[dict] = None,\n",
    "    positive_class: str = 'Spam',\n",
    "    negative_class: str = 'Ham'\n",
    ") -> None:\n",
    "    \"\"\"\n",
    "    Display professional visualizations for message classification distributions.\n",
    "    \n",
    "    Args:\n",
    "        file_path: Path to CSV/TSV file containing message data\n",
    "        text_col: Name of column containing message text\n",
    "        label_col: Name of column containing labels\n",
    "        label_mapping: Optional dictionary to map raw labels to display names\n",
    "        positive_class: Name to use for positive class in visualizations\n",
    "        negative_class: Name to use for negative class in visualizations\n",
    "    \"\"\"\n",
    "    # Determine file type and set separator\n",
    "    file_path = Path(file_path)\n",
    "    if file_path.suffix.lower() == '.tsv':\n",
    "        sep = '\\t'\n",
    "    else:  # default to CSV\n",
    "        sep = ','\n",
    "    \n",
    "    # Load data with encoding detection\n",
    "    try:\n",
    "        try:\n",
    "            data = pd.read_csv(file_path, sep=sep)\n",
    "        except UnicodeDecodeError:\n",
    "            encoding = detect_encoding(file_path)\n",
    "            data = pd.read_csv(file_path, sep=sep, encoding=encoding)\n",
    "    except Exception as e:\n",
    "        print(f\"Failed to read file: {e}\")\n",
    "        print(f\"Supported formats: CSV (.csv) or TSV (.tsv)\")\n",
    "        return\n",
    "\n",
    "    # Validate columns\n",
    "    if label_col not in data.columns:\n",
    "        print(f\"Error: Column '{label_col}' not found in data\")\n",
    "        print(f\"Available columns: {list(data.columns)}\")\n",
    "        return\n",
    "    if text_col not in data.columns:\n",
    "        print(f\"Error: Column '{text_col}' not found in data\")\n",
    "        print(f\"Available columns: {list(data.columns)}\")\n",
    "        return\n",
    "\n",
    "    # Standardize labels\n",
    "    unique_labels = data[label_col].unique()\n",
    "    \n",
    "    # Auto-detect label mapping if not provided\n",
    "    if label_mapping is None:\n",
    "        if set(map(str, unique_labels)) <= {'0', '1'}:\n",
    "            label_mapping = {'0': negative_class, '1': positive_class}\n",
    "        elif set(map(str.lower, map(str, unique_labels))) <= {'ham', 'spam', 'negative', 'positive'}:\n",
    "            label_mapping = {\n",
    "                'ham': negative_class, 'spam': positive_class,\n",
    "                'negative': negative_class, 'positive': positive_class\n",
    "            }\n",
    "    \n",
    "    if label_mapping:\n",
    "        # Map labels to standardized names\n",
    "        data['_plot_label'] = data[label_col].astype(str).map(label_mapping)\n",
    "        data['_numeric_label'] = data[label_col].astype(str).map(\n",
    "            {k: i for i, k in enumerate(label_mapping)}\n",
    "        )\n",
    "    else:\n",
    "        # Use raw labels if no mapping provided\n",
    "        data['_plot_label'] = data[label_col].astype(str)\n",
    "        data['_numeric_label'] = pd.factorize(data[label_col])[0]\n",
    "    \n",
    "    # Filter valid data\n",
    "    valid_data = data.dropna(subset=['_plot_label', '_numeric_label'])\n",
    "    if len(valid_data) == 0:\n",
    "        print(\"Error: No valid labels found after conversion\")\n",
    "        return\n",
    "\n",
    "    # Set professional style\n",
    "    sns.set_theme(style=\"whitegrid\")\n",
    "    plt.style.use('seaborn-v0_8')\n",
    "    \n",
    "    # Create figure\n",
    "    plt.figure(figsize=(14, 6))\n",
    "    \n",
    "    # 1. Bar plot - Distribution\n",
    "    plt.subplot(1, 2, 1)\n",
    "    ax = sns.countplot(\n",
    "        x='_numeric_label', \n",
    "        hue='_numeric_label',\n",
    "        data=valid_data, \n",
    "        palette=\"viridis\", \n",
    "        legend=False\n",
    "    )\n",
    "    \n",
    "    # Get sorted labels\n",
    "    label_order = valid_data[['_numeric_label', '_plot_label']]\\\n",
    "        .drop_duplicates()\\\n",
    "        .sort_values('_numeric_label')\n",
    "    xtick_labels = [f\"{row['_plot_label']} ({row['_numeric_label']})\" \n",
    "                   for _, row in label_order.iterrows()]\n",
    "    \n",
    "    ax.set_xticks(range(len(label_order)))\n",
    "    ax.set_xticklabels(xtick_labels)\n",
    "    plt.title('Message Classification Distribution', fontsize=12, fontweight='bold')\n",
    "    plt.xlabel('Message Type')\n",
    "    plt.ylabel('Count')\n",
    "    \n",
    "    # Add value labels\n",
    "    for p in ax.patches:\n",
    "        ax.annotate(\n",
    "            f'{p.get_height():,}', \n",
    "            (p.get_x() + p.get_width()/2, p.get_height()), \n",
    "            ha='center', va='center', \n",
    "            xytext=(0, 7), \n",
    "            textcoords='offset points',\n",
    "            fontsize=10,\n",
    "            fontweight='bold'\n",
    "        )\n",
    "\n",
    "    # 2. Pie chart - Proportion\n",
    "    plt.subplot(1, 2, 2)\n",
    "    counts = valid_data['_plot_label'].value_counts()\n",
    "    \n",
    "    # Use standard colors for binary case, otherwise viridis\n",
    "    if len(counts) == 2:\n",
    "        colors = ['#66b3ff', '#ff9999']  # Blue for negative, Red for positive\n",
    "    else:\n",
    "        colors = sns.color_palette(\"viridis\", len(counts))\n",
    "    \n",
    "    plt.pie(\n",
    "        counts,\n",
    "        labels=counts.index,\n",
    "        autopct=lambda p: f'{p:.1f}%\\n({int(p/100*sum(counts)):,})',\n",
    "        colors=colors,\n",
    "        startangle=90,\n",
    "        explode=[0.05]*len(counts),\n",
    "        shadow=True,\n",
    "        textprops={'fontsize': 10, 'fontweight': 'bold'},\n",
    "        wedgeprops={'linewidth': 1.5, 'edgecolor': 'white'}\n",
    "    )\n",
    "    \n",
    "    plt.title('Message Classification Proportion', fontsize=12, fontweight='bold')\n",
    "    \n",
    "    plt.tight_layout()\n",
    "    plt.show()\n"
   ]
  },
  {
   "cell_type": "code",
   "execution_count": 5,
   "id": "744544ba-0241-45ba-87c2-89089868bbcf",
   "metadata": {},
   "outputs": [
    {
     "data": {
      "image/png": "[encoded data removed]",
      "text/plain": [
       "<Figure size 1400x600 with 2 Axes>"
      ]
     },
     "metadata": {},
     "output_type": "display_data"
    }
   ],
   "source": [
    "show_message_distributions(\"data/train.tsv\",'THANX 4 PUTTIN DA FONE DOWN ON ME!!','ham')"
   ]
  },
  {
   "cell_type": "code",
   "execution_count": 6,
   "id": "e4f84406-e371-404c-8543-701336743096",
   "metadata": {},
   "outputs": [
    {
     "data": {
      "image/png": "[encoded data removed]",
      "text/plain": [
       "<Figure size 1400x600 with 2 Axes>"
      ]
     },
     "metadata": {},
     "output_type": "display_data"
    }
   ],
   "source": [
    "show_message_distributions(\"data/emails_new_train.csv\")"
   ]
  },
  {
   "cell_type": "code",
   "execution_count": 7,
   "id": "5d821ec5-336f-4c12-b5f7-4d54d0361c7a",
   "metadata": {},
   "outputs": [
    {
     "name": "stderr",
     "output_type": "stream",
     "text": [
      "[nltk_data] Downloading package punkt to\n",
      "[nltk_data]     C:\\Users\\ASUS\\AppData\\Roaming\\nltk_data...\n",
      "[nltk_data]   Package punkt is already up-to-date!\n"
     ]
    },
    {
     "data": {
      "text/plain": [
       "True"
      ]
     },
     "execution_count": 7,
     "metadata": {},
     "output_type": "execute_result"
    }
   ],
   "source": [
    "from gensim.models import Word2Vec\n",
    "import nltk\n",
    "from nltk.tokenize import word_tokenize\n",
    "\n",
    "nltk.download('punkt')"
   ]
  },
  {
   "cell_type": "code",
   "execution_count": 8,
   "id": "ee439f28-03f6-40e5-966c-744dc2b1a545",
   "metadata": {},
   "outputs": [],
   "source": [
    "# More robust tokenization with error handling\n",
    "def safe_tokenize(text):\n",
    "    try:\n",
    "        return word_tokenize(str(text).lower())\n",
    "    except:\n",
    "        return str(text).lower().split()  # Fallback to simple whitespace splitting\n",
    "\n",
    "tokenized_messages = [safe_tokenize(msg) for msg in train_messages]"
   ]
  },
  {
   "cell_type": "code",
   "execution_count": 9,
   "id": "9c6c89eb-3c4e-4974-9ba5-466db7d339c3",
   "metadata": {},
   "outputs": [
    {
     "name": "stdout",
     "output_type": "stream",
     "text": [
      "Training Word2Vec model...\n"
     ]
    }
   ],
   "source": [
    "# Train Word2Vec model with optimized parameters\n",
    "print(\"Training Word2Vec model...\")\n",
    "w2v_model = Word2Vec(\n",
    "    sentences=tokenized_messages,\n",
    "    vector_size=100,\n",
    "    window=5,\n",
    "    min_count=2,\n",
    "    workers=4,\n",
    "    epochs=20,\n",
    "    sg=1,  # Use skip-gram (better for small datasets)\n",
    "    hs=0,  # Use negative sampling\n",
    "    negative=5  # Number of negative samples\n",
    ")"
   ]
  },
  {
   "cell_type": "code",
   "execution_count": 10,
   "id": "10aa6c66-4e43-48cf-9cd1-9d59cf432367",
   "metadata": {},
   "outputs": [],
   "source": [
    "def message_to_vector(message, model, vector_size=100):\n",
    "    words = safe_tokenize(message)\n",
    "    word_vectors = []\n",
    "    for word in words:\n",
    "        try:\n",
    "            if word in model.wv:\n",
    "                word_vectors.append(model.wv[word])\n",
    "        except AttributeError:\n",
    "            # Handle case where model isn't properly trained\n",
    "            pass\n",
    "    \n",
    "    if len(word_vectors) > 0:\n",
    "        return np.mean(word_vectors, axis=0)\n",
    "    return np.zeros(vector_size)"
   ]
  },
  {
   "cell_type": "code",
   "execution_count": 11,
   "id": "95154ac4-f2d6-41b4-a414-1f80346c818f",
   "metadata": {},
   "outputs": [
    {
     "data": {
      "text/plain": [
       "4457"
      ]
     },
     "execution_count": 11,
     "metadata": {},
     "output_type": "execute_result"
    }
   ],
   "source": [
    "len(train_messages)"
   ]
  },
  {
   "cell_type": "code",
   "execution_count": 12,
   "id": "52c83d15-cf3f-4d50-9409-b488315b3647",
   "metadata": {},
   "outputs": [],
   "source": [
    "Xhh_train = np.array([message_to_vector(msg, w2v_model) for msg in train_messages])"
   ]
  },
  {
   "cell_type": "code",
   "execution_count": null,
   "id": "24b469ff-9a16-4427-badb-736f0265b7e4",
   "metadata": {},
   "outputs": [],
   "source": []
  },
  {
   "cell_type": "code",
   "execution_count": null,
   "id": "5ae32dcb-dd90-4b9f-9de4-b0a9e253f79e",
   "metadata": {},
   "outputs": [],
   "source": []
  },
  {
   "cell_type": "markdown",
   "id": "419c8550-94c3-4048-aeda-ba3eb59b62a7",
   "metadata": {},
   "source": [
    "already prtrained"
   ]
  },
  {
   "cell_type": "code",
   "execution_count": 13,
   "id": "ef5ffbe1-23f8-47d5-9813-7bb380fd14f5",
   "metadata": {},
   "outputs": [],
   "source": [
    "import matplotlib.pyplot as plt\n",
    "%matplotlib inline\n",
    "plt.style.use('ggplot')\n",
    "from sklearn.decomposition import PCA\n",
    "import gensim.downloader as api\n",
    "from gensim.models import KeyedVectors"
   ]
  },
  {
   "cell_type": "code",
   "execution_count": 14,
   "id": "8f360578-a193-4f77-bb07-0951a14cb93e",
   "metadata": {},
   "outputs": [],
   "source": [
    "# Load pre-trained embeddings (choose one)\n",
    "embeddings = api.load(\"glove-twitter-100\")  # Best for SMS-style text\n",
    "# embeddings = api.load(\"word2vec-google-news-300\")  # Larger vocabulary"
   ]
  },
  {
   "cell_type": "code",
   "execution_count": 15,
   "id": "2104aaf3-fcbb-4e08-abfe-aada7bdd45f9",
   "metadata": {},
   "outputs": [],
   "source": [
    "def message_to_vector(messages, embedding_model):\n",
    "    vectors = []\n",
    "    for msg in messages:\n",
    "        words = msg.lower().split()  # Simple tokenizer\n",
    "        word_vecs = [embedding_model[word] for word in words if word in embedding_model]\n",
    "        vectors.append(np.mean(word_vecs, axis=0) if word_vecs else np.zeros(100))\n",
    "    return np.array(vectors)"
   ]
  },
  {
   "cell_type": "code",
   "execution_count": 16,
   "id": "4f160eea-209a-421b-91ee-f58037536449",
   "metadata": {},
   "outputs": [],
   "source": [
    "Train_matrix3 = message_to_vector(train_messages, embeddings)\n",
    "Test_matrix3 = message_to_vector(test_messages, embeddings)"
   ]
  },
  {
   "cell_type": "code",
   "execution_count": null,
   "id": "fc902d97-5f03-43b3-b9ff-ec5ccf46986b",
   "metadata": {},
   "outputs": [],
   "source": []
  },
  {
   "cell_type": "code",
   "execution_count": null,
   "id": "5f07c972-d1da-41a4-9373-498a7fb3697e",
   "metadata": {},
   "outputs": [],
   "source": []
  },
  {
   "cell_type": "code",
   "execution_count": 17,
   "id": "9beabc52-dade-4a91-8641-d8a75f865bbb",
   "metadata": {},
   "outputs": [],
   "source": [
    "def getwords(message):\n",
    "    return message.lower().split()"
   ]
  },
  {
   "cell_type": "code",
   "execution_count": 18,
   "id": "d340c5a0-aa94-4cec-b319-5bd6310af967",
   "metadata": {},
   "outputs": [],
   "source": [
    "def h(theta,x):\n",
    "    return 1 / (1 + np.exp(-np.dot(x, theta)))"
   ]
  },
  {
   "cell_type": "code",
   "execution_count": 19,
   "id": "3a484f66-aa8e-43f3-83cc-a32cc04cf584",
   "metadata": {},
   "outputs": [],
   "source": [
    "def Create_dictionary(messages):\n",
    "    words = [word for message in messages for word in getwords(message)]\n",
    "    words_count = collections.Counter(words)\n",
    "    #word_dic = {(word, count) for word,count in words_count.items() if count>=5}\n",
    "    freq_word = [word for word,count in words_count.items() if count>=10 and word !='subject:']\n",
    "    return {word: count for count, word in enumerate(freq_word)}"
   ]
  },
  {
   "cell_type": "code",
   "execution_count": 20,
   "id": "081c72e7-64dd-4f13-b916-b9f6995f0506",
   "metadata": {},
   "outputs": [],
   "source": [
    "dicWords = Create_dictionary(train_messages)"
   ]
  },
  {
   "cell_type": "code",
   "execution_count": null,
   "id": "9edb1336-e2be-44a7-a33d-da2efc60e56b",
   "metadata": {},
   "outputs": [],
   "source": []
  },
  {
   "cell_type": "code",
   "execution_count": 21,
   "id": "b465ce12-539a-4f19-b97a-94470df6617f",
   "metadata": {},
   "outputs": [],
   "source": [
    "def Transform_text(messages, word_dictionary):\n",
    "    m = len(messages)\n",
    "    n = len(word_dictionary)\n",
    "    matrix = np.zeros((m,n), dtype=int)\n",
    "\n",
    "    word_counts = [collections.Counter(getwords(message)) for message in messages]\n",
    "    for i in range(m):\n",
    "        for word, count in word_counts[i].items():\n",
    "            if word in word_dictionary:\n",
    "                matrix[i][word_dictionary[word]] += count\n",
    "\n",
    "    return matrix\n"
   ]
  },
  {
   "cell_type": "code",
   "execution_count": 22,
   "id": "40729348-154f-47cc-b4be-34b2b21e9d3f",
   "metadata": {},
   "outputs": [],
   "source": [
    "train_matrix = Transform_text(train_messages,dicWords)"
   ]
  },
  {
   "cell_type": "code",
   "execution_count": 23,
   "id": "522468ab-1a4f-4af6-a9b8-43c82907a950",
   "metadata": {},
   "outputs": [
    {
     "data": {
      "text/plain": [
       "(4457, 877)"
      ]
     },
     "execution_count": 23,
     "metadata": {},
     "output_type": "execute_result"
    }
   ],
   "source": [
    "train_matrix.shape"
   ]
  },
  {
   "cell_type": "code",
   "execution_count": 24,
   "id": "35f789b5-5a96-4a73-95af-a14ea89c258e",
   "metadata": {},
   "outputs": [
    {
     "data": {
      "text/plain": [
       "(4457, 100)"
      ]
     },
     "execution_count": 24,
     "metadata": {},
     "output_type": "execute_result"
    }
   ],
   "source": [
    "Train_matrix3.shape"
   ]
  },
  {
   "cell_type": "code",
   "execution_count": 25,
   "id": "fad314f2-425c-4268-86a3-5d5e0ce665bb",
   "metadata": {},
   "outputs": [],
   "source": [
    "X_with_bias = np.c_[np.ones(Train_matrix3.shape[0]),Train_matrix3]"
   ]
  },
  {
   "cell_type": "code",
   "execution_count": 26,
   "id": "a9e7d31c-493a-40ce-90aa-e670a02a9686",
   "metadata": {},
   "outputs": [],
   "source": [
    "class LogisticRegressionWithGD:\n",
    "    def __init__(self,alpha=0.1,iteration=1000):\n",
    "        self.alpha = alpha\n",
    "        self.iteration=iteration\n",
    "        self.theta=None\n",
    "    def h(self,theta, x):\n",
    "        return 1 / (1 + np.exp(-np.dot(x, theta)))\n",
    "    def fit(self,x,y):\n",
    "        lambda_ = 1\n",
    "        n,m = x.shape\n",
    "        X_with_bias = np.c_[np.ones(n),x]\n",
    "        self.theta = np.zeros(m+1)\n",
    "        #Gradient\n",
    "        for i in range(self.iteration):\n",
    "            #With regularization\n",
    "            linearmodel = (np.dot(X_with_bias.T, (self.h(self.theta, X_with_bias)-y))/m)\n",
    "            L1_reg = np.sign(self.theta)*lambda_\n",
    "\n",
    "            L2_reg = lambda_*self.theta\n",
    "            linearmodel += L2_reg\n",
    "            self.theta = self.theta - self.alpha*linearmodel\n",
    "        \n",
    "        \n",
    "    def predict(self,x):\n",
    "        X_with_bias = np.c_[np.ones(x.shape[0]),x]\n",
    "        y_predicted = 1/(1+np.exp(-X_with_bias.dot(self.theta)))\n",
    "        y_result = [1 if i>0.5 else 0 for i in y_predicted]\n",
    "        return y_result"
   ]
  },
  {
   "cell_type": "code",
   "execution_count": 27,
   "id": "6074d896-2ba5-422e-8e70-76a675226237",
   "metadata": {},
   "outputs": [],
   "source": [
    "LR = LogisticRegressionWithGD(alpha=0.01,iteration=1000)\n",
    "LR.fit(Train_matrix3,train_labels)\n",
    "LR_predictions = LR.predict(Test_matrix3)"
   ]
  },
  {
   "cell_type": "code",
   "execution_count": null,
   "id": "fe3047cf-b156-45be-a453-d7fa6f0a421f",
   "metadata": {},
   "outputs": [],
   "source": []
  },
  {
   "cell_type": "code",
   "execution_count": 28,
   "id": "b5537c0c-df7b-49e9-a72f-8c434ae33389",
   "metadata": {},
   "outputs": [],
   "source": [
    "LR_accuracy = np.mean(LR_predictions == test_labels)"
   ]
  },
  {
   "cell_type": "code",
   "execution_count": 29,
   "id": "47edc7fb-e883-47f3-8891-800b26bb2a28",
   "metadata": {},
   "outputs": [
    {
     "name": "stdout",
     "output_type": "stream",
     "text": [
      "SimpLe Logistic Regression had an accuracy of 0.9086021505376344 on the testing set\n"
     ]
    }
   ],
   "source": [
    "print('SimpLe Logistic Regression had an accuracy of {} on the testing set'.format(LR_accuracy))"
   ]
  },
  {
   "cell_type": "code",
   "execution_count": 30,
   "id": "39874a94-6d63-4794-8b19-36962b495de0",
   "metadata": {},
   "outputs": [],
   "source": [
    "simpletesting=[\n",
    "'buy on site this product now',\n",
    "    'Get new phone free Click this URL',\n",
    "\"Don't forget to Subscribe our page in www.hh.com\",\n",
    "\"Urgent your Account has been compromised. Verify your details now\",\n",
    "    \"Making $5000 a week working from home. No Skills required\",\n",
    "\"Your Package delivery failed. Click here to reschedule\",\n",
    "    \"Act now this offer expires in 24 hours\",\n",
    "    \"Get rich quick with this one simple trick\",\n",
    "    \"Warning: your computer is as risk. Download this antivirus now \"\n",
    "]"
   ]
  },
  {
   "cell_type": "markdown",
   "id": "6d6129f0-c145-46ba-8525-63e315f7d65d",
   "metadata": {},
   "source": [
    "use Large dataset"
   ]
  },
  {
   "cell_type": "code",
   "execution_count": 31,
   "id": "0f77d308-4a3e-4bfc-af09-1e6d90813e6f",
   "metadata": {},
   "outputs": [],
   "source": [
    "Train_matrix32 = message_to_vector(train2_messages, embeddings)"
   ]
  },
  {
   "cell_type": "code",
   "execution_count": 32,
   "id": "fe9cd66a-d19d-4e50-b195-018d8007fafe",
   "metadata": {},
   "outputs": [],
   "source": [
    "LR2 = LogisticRegressionWithGD(alpha=0.01,iteration=1000)\n",
    "LR2.fit(Train_matrix32,train2_labels)"
   ]
  },
  {
   "cell_type": "code",
   "execution_count": 33,
   "id": "e7710be3-66e9-4c90-a769-a8a5cfb5beb7",
   "metadata": {},
   "outputs": [],
   "source": [
    "LR_predictions2 = LR2.predict(Test_matrix3)\n",
    "LR_accuracy2 = np.mean(LR_predictions2 == test_labels)"
   ]
  },
  {
   "cell_type": "code",
   "execution_count": 34,
   "id": "5020fddf-c177-4d61-8217-2a60e9c201e1",
   "metadata": {},
   "outputs": [
    {
     "name": "stdout",
     "output_type": "stream",
     "text": [
      "SimpLe Logistic Regression with large dataset had an accuracy of 0.8727598566308243 on the testing set\n"
     ]
    }
   ],
   "source": [
    "print('SimpLe Logistic Regression with large dataset had an accuracy of {} on the testing set'.format(LR_accuracy2))"
   ]
  },
  {
   "cell_type": "code",
   "execution_count": null,
   "id": "79a1e779-fa9c-465e-977b-e8520139ba01",
   "metadata": {},
   "outputs": [],
   "source": []
  },
  {
   "cell_type": "code",
   "execution_count": null,
   "id": "4ec887a1-a7cb-4a57-83f1-1adc8cd26231",
   "metadata": {},
   "outputs": [],
   "source": []
  },
  {
   "cell_type": "code",
   "execution_count": null,
   "id": "e80210b2-a18d-40eb-81ba-aac23a0e9295",
   "metadata": {},
   "outputs": [],
   "source": []
  }
 ],
 "metadata": {
  "kernelspec": {
   "display_name": "Python 3 (ipykernel)",
   "language": "python",
   "name": "python3"
  },
  "language_info": {
   "codemirror_mode": {
    "name": "ipython",
    "version": 3
   },
   "file_extension": ".py",
   "mimetype": "text/x-python",
   "name": "python",
   "nbconvert_exporter": "python",
   "pygments_lexer": "ipython3",
   "version": "3.11.1"
  }
 },
 "nbformat": 4,
 "nbformat_minor": 5
}
